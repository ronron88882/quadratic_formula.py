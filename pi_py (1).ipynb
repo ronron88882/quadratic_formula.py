{
  "nbformat": 4,
  "nbformat_minor": 0,
  "metadata": {
    "colab": {
      "provenance": []
    },
    "kernelspec": {
      "name": "python3",
      "display_name": "Python 3"
    },
    "language_info": {
      "name": "python"
    }
  },
  "cells": [
    {
      "cell_type": "code",
      "execution_count": 2,
      "metadata": {
        "id": "qtSKq3BhUG0U"
      },
      "outputs": [],
      "source": [
        "text = \"How I want a drink, alcoholic of course, after the heavy chapters involving quantum mechanics. All of thy geometry, Herr Planck, is fairly hard.\"\n",
        "words = text.split()\n",
        "word_length = [len(word) for word in words]"
      ]
    },
    {
      "cell_type": "code",
      "source": [
        "print(word_length)"
      ],
      "metadata": {
        "colab": {
          "base_uri": "https://localhost:8080/"
        },
        "id": "3Wsdg8yjVaPE",
        "outputId": "ea9c3d05-819e-4c55-c85d-557b3d95a030"
      },
      "execution_count": 3,
      "outputs": [
        {
          "output_type": "stream",
          "name": "stdout",
          "text": [
            "[3, 1, 4, 1, 6, 9, 2, 7, 5, 3, 5, 8, 9, 7, 10, 3, 2, 3, 9, 4, 7, 2, 6, 5]\n"
          ]
        }
      ]
    },
    {
      "cell_type": "code",
      "source": [
        "answer = ''.join(map(str, word_length))"
      ],
      "metadata": {
        "id": "7wfwxePSWQbv"
      },
      "execution_count": 4,
      "outputs": []
    },
    {
      "cell_type": "code",
      "source": [
        "answer"
      ],
      "metadata": {
        "colab": {
          "base_uri": "https://localhost:8080/",
          "height": 35
        },
        "id": "pp2G6NSmXxzV",
        "outputId": "b91bb884-308c-4afb-d14a-d99c58d480ed"
      },
      "execution_count": 5,
      "outputs": [
        {
          "output_type": "execute_result",
          "data": {
            "text/plain": [
              "'3141692753589710323947265'"
            ],
            "application/vnd.google.colaboratory.intrinsic+json": {
              "type": "string"
            }
          },
          "metadata": {},
          "execution_count": 5
        }
      ]
    },
    {
      "cell_type": "code",
      "source": [],
      "metadata": {
        "id": "vQgoWVcqXz1e"
      },
      "execution_count": null,
      "outputs": []
    }
  ]
}