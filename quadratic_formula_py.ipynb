{
  "nbformat": 4,
  "nbformat_minor": 0,
  "metadata": {
    "colab": {
      "provenance": []
    },
    "kernelspec": {
      "name": "python3",
      "display_name": "Python 3"
    },
    "language_info": {
      "name": "python"
    }
  },
  "cells": [
    {
      "cell_type": "code",
      "source": [
        "import math\n",
        "import cmath"
      ],
      "metadata": {
        "id": "tCDHFCLdyElt"
      },
      "execution_count": 18,
      "outputs": []
    },
    {
      "cell_type": "code",
      "execution_count": 20,
      "metadata": {
        "id": "kHu5cwH4vNBP"
      },
      "outputs": [],
      "source": [
        "def coefficient(a, b, c):\n",
        "    discriminant = b ** 2 - 4 * a * c\n",
        "    \n",
        "    if discriminant < 0:\n",
        "     x1 = (-b + cmath.sqrt(discriminant)) / (2 * a)\n",
        "     x2 = (-b - cmath.sqrt(discriminant)) / (2 * a)\n",
        "    else:\n",
        "     x1 = (-b + math.sqrt(discriminant)) / (2 * a)\n",
        "     x2 = (-b - math.sqrt(discriminant)) / (2 * a)\n",
        "    \n",
        "    return x1, x2"
      ]
    },
    {
      "cell_type": "code",
      "source": [
        "#(1)\n",
        "a =1\n",
        "b =-6\n",
        "c =9\n",
        "print(coefficient(a,b,c))"
      ],
      "metadata": {
        "colab": {
          "base_uri": "https://localhost:8080/"
        },
        "id": "RC8rZsBNw3V-",
        "outputId": "984106bc-e07c-4d81-bb59-cc5427d67b36"
      },
      "execution_count": 21,
      "outputs": [
        {
          "output_type": "stream",
          "name": "stdout",
          "text": [
            "(3.0, 3.0)\n"
          ]
        }
      ]
    },
    {
      "cell_type": "code",
      "source": [
        "#(2)\n",
        "a =1\n",
        "b =2\n",
        "c =-8\n",
        "print(coefficient(a,b,c))"
      ],
      "metadata": {
        "colab": {
          "base_uri": "https://localhost:8080/"
        },
        "id": "zCZKlYzQyDSh",
        "outputId": "27352afe-00c1-4394-c3e9-c07fe689690a"
      },
      "execution_count": 22,
      "outputs": [
        {
          "output_type": "stream",
          "name": "stdout",
          "text": [
            "(2.0, -4.0)\n"
          ]
        }
      ]
    },
    {
      "cell_type": "code",
      "source": [
        "#(3)\n",
        "a =8\n",
        "b =-6\n",
        "c =-35\n",
        "print(coefficient(a,b,c))"
      ],
      "metadata": {
        "colab": {
          "base_uri": "https://localhost:8080/"
        },
        "id": "9UQZlhHuP4of",
        "outputId": "e2018bde-e35e-482d-ed53-85e7b0e72944"
      },
      "execution_count": 23,
      "outputs": [
        {
          "output_type": "stream",
          "name": "stdout",
          "text": [
            "(2.5, -1.75)\n"
          ]
        }
      ]
    },
    {
      "cell_type": "code",
      "source": [
        "#(4)\n",
        "a =1\n",
        "b =0\n",
        "c =1\n",
        "print(coefficient(a,b,c))"
      ],
      "metadata": {
        "colab": {
          "base_uri": "https://localhost:8080/"
        },
        "id": "LuWIur-TQAKA",
        "outputId": "e8d98f1d-e8ae-4b0a-ffc3-a7b05fe43fbe"
      },
      "execution_count": 24,
      "outputs": [
        {
          "output_type": "stream",
          "name": "stdout",
          "text": [
            "(1j, -1j)\n"
          ]
        }
      ]
    },
    {
      "cell_type": "code",
      "source": [],
      "metadata": {
        "id": "hAByTgIzQU_i"
      },
      "execution_count": null,
      "outputs": []
    }
  ]
}